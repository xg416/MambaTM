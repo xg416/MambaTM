{
 "cells": [
  {
   "cell_type": "code",
   "execution_count": 1,
   "id": "9f7b3b7c",
   "metadata": {},
   "outputs": [],
   "source": [
    "import torch\n",
    "import pickle\n",
    "from scipy.interpolate import interp1d\n",
    "import scipy.integrate as integrate\n",
    "from scipy.special import jv\n",
    "import numpy as np\n",
    "import math\n",
    "import os\n",
    "import matplotlib.pyplot as plt"
   ]
  },
  {
   "cell_type": "code",
   "execution_count": 2,
   "id": "cb34c671",
   "metadata": {},
   "outputs": [],
   "source": [
    "def nollToZernInd(j):\n",
    "    \"\"\"\n",
    "    This function maps the input \"j\" to the (row, column) of the Zernike pyramid using the Noll numbering scheme.\n",
    "    Authors: Tim van Werkhoven, Jason Saredy\n",
    "    See: https://github.com/tvwerkhoven/libtim-py/blob/master/libtim/zern.py\n",
    "    \"\"\"\n",
    "    if (j == 0):\n",
    "        raise ValueError(\"Noll indices start at 1, 0 is invalid.\")\n",
    "    n = 0\n",
    "    j1 = j-1\n",
    "    while (j1 > n):\n",
    "        n += 1\n",
    "        j1 -= n\n",
    "    m = (-1)**j * ((n % 2) + 2 * int((j1+((n+1)%2)) / 2.0 ))\n",
    "\n",
    "    return n, m\n",
    "\n",
    "def xor(x, y):\n",
    "    return bool((x and not y) or (not x and y))"
   ]
  },
  {
   "cell_type": "code",
   "execution_count": 3,
   "id": "31787260",
   "metadata": {},
   "outputs": [],
   "source": [
    "low = 7\n",
    "sarr2 = np.linspace(-low, 0, 3000)\n",
    "sarr_exp = (np.exp(sarr2) - np.exp(-low))/(1-np.exp(-low)) *100"
   ]
  },
  {
   "cell_type": "code",
   "execution_count": null,
   "id": "5b3d98b5",
   "metadata": {},
   "outputs": [],
   "source": [
    "for i in range(2, 37):\n",
    "    ni, mi = nollToZernInd(i)\n",
    "    nj, mj = nollToZernInd(i)\n",
    "    nplus, nminus, mplus, mminus = ni+nj, ni-nj, mi+mj, mi-mj\n",
    "    int1, a = integrate.quad_vec(lambda x: jv(mplus, sarr_exp* 2 * x) * jv(ni+1, x) * jv(nj+1, x) / (x * (x**2)**(11/6)), 1e-20, np.inf, limit=10**5)\n",
    "    int2, a = integrate.quad_vec(lambda x: jv(np.abs(mminus), sarr_exp* 2 * x) * jv(ni+1, x) * jv(nj+1, x) / (x * (x**2)**(11/6)), 1E-20, np.inf, limit=10**5)\n",
    "    ints1[i-2, :] = torch.tensor(int1)\n",
    "    ints2[i-2, :] = torch.tensor(int2)\n",
    "    print(i)"
   ]
  }
 ],
 "metadata": {
  "kernelspec": {
   "display_name": "Python 3 (ipykernel)",
   "language": "python",
   "name": "python3"
  },
  "language_info": {
   "codemirror_mode": {
    "name": "ipython",
    "version": 3
   },
   "file_extension": ".py",
   "mimetype": "text/x-python",
   "name": "python",
   "nbconvert_exporter": "python",
   "pygments_lexer": "ipython3",
   "version": "3.8.10"
  }
 },
 "nbformat": 4,
 "nbformat_minor": 5
}
