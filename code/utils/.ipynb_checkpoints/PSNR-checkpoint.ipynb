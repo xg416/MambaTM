{
 "cells": [
  {
   "cell_type": "code",
   "execution_count": null,
   "id": "c3421fcc-5668-4a7d-9e9b-26f05a525b92",
   "metadata": {},
   "outputs": [],
   "source": [
    "import torch\n",
    "from torchmetrics.functional import structural_similarity_index_measure as tmf_ssim\n",
    "from torchmetrics.functional import peak_signal_noise_ratio as tmf_psnr\n",
    "import cv2\n",
    "import numpy as np\n",
    "import torchmetrics\n",
    "torchmetrics.__version__"
   ]
  },
  {
   "cell_type": "code",
   "execution_count": 2,
   "id": "7e1ba4b2-fffe-4b74-bee7-768c7620e751",
   "metadata": {},
   "outputs": [],
   "source": [
    "path1 = \"/home/zhan3275/data/log_rnn/Mamba/MambaTM2_2_10-17-2024-09-54-53/imgs/mediumval_5000_0_0.jpg\"\n",
    "path2 = \"/home/zhan3275/data/log_rnn/Mamba/MambaTM2_2_10-17-2024-09-54-53/imgs/mediumval_5000_0_1.jpg\""
   ]
  },
  {
   "cell_type": "code",
   "execution_count": 3,
   "id": "4bb03a02-56c4-4c10-900a-f932fe32d018",
   "metadata": {},
   "outputs": [],
   "source": [
    "img1 = cv2.imread(path1).astype(\"float32\") / 255.0\n",
    "img2 = cv2.imread(path2).astype(\"float32\") / 255.0"
   ]
  },
  {
   "cell_type": "code",
   "execution_count": 4,
   "id": "9dfa4a59-95f5-4d88-a7e8-7b0f34c5680d",
   "metadata": {},
   "outputs": [],
   "source": [
    "img1 = torch.tensor(img1).permute(1,2,0).unsqueeze(0)\n",
    "img2 = torch.tensor(img2).permute(1,2,0).unsqueeze(0)"
   ]
  },
  {
   "cell_type": "code",
   "execution_count": 13,
   "id": "8ce5938b-4720-431c-a17a-ebffb5441656",
   "metadata": {},
   "outputs": [
    {
     "data": {
      "text/plain": [
       "tensor(31.7528)"
      ]
     },
     "execution_count": 13,
     "metadata": {},
     "output_type": "execute_result"
    }
   ],
   "source": [
    "tmf_psnr(img1, img2, data_range=1)"
   ]
  },
  {
   "cell_type": "code",
   "execution_count": 5,
   "id": "595784ff-4620-4590-81c3-2b254fb79194",
   "metadata": {},
   "outputs": [
    {
     "name": "stderr",
     "output_type": "stream",
     "text": [
      "/home/zhan3275/env/torch2/lib/python3.12/site-packages/torchmetrics/utilities/prints.py:70: FutureWarning: Importing `peak_signal_noise_ratio` from `torchmetrics.functional` was deprecated and will be removed in 2.0. Import `peak_signal_noise_ratio` from `torchmetrics.image` instead.\n",
      "  _future_warning(\n"
     ]
    },
    {
     "data": {
      "text/plain": [
       "tensor(31.6875)"
      ]
     },
     "execution_count": 5,
     "metadata": {},
     "output_type": "execute_result"
    }
   ],
   "source": [
    "tmf_psnr(img1, img2, data_range=1)"
   ]
  },
  {
   "cell_type": "code",
   "execution_count": 14,
   "id": "ede21e2d-6135-43f2-b98f-7756e1e62c87",
   "metadata": {},
   "outputs": [],
   "source": [
    "def calculate_psnr(img1, img2):\n",
    "    mse = torch.mean((img1 - img2)**2)\n",
    "    # print(mse.max(), mse.min())\n",
    "    return 20 * torch.log10(1.0 / torch.sqrt(mse+1e-8))"
   ]
  },
  {
   "cell_type": "code",
   "execution_count": 15,
   "id": "d98f4ed0-b0f9-4d6e-99de-0f3295d9ccab",
   "metadata": {},
   "outputs": [
    {
     "data": {
      "text/plain": [
       "tensor(31.6874)"
      ]
     },
     "execution_count": 15,
     "metadata": {},
     "output_type": "execute_result"
    }
   ],
   "source": [
    "calculate_psnr(img1, img2)"
   ]
  },
  {
   "cell_type": "code",
   "execution_count": 17,
   "id": "28cf7348-38e0-45ac-aee7-34c72238d457",
   "metadata": {},
   "outputs": [],
   "source": [
    "from torchmetrics.image import StructuralSimilarityIndexMeasure\n",
    "from torchmetrics.image import PeakSignalNoiseRatio\n",
    "tmf_psnr = PeakSignalNoiseRatio(data_range=1)"
   ]
  },
  {
   "cell_type": "code",
   "execution_count": 18,
   "id": "d352ba02-b943-4349-ac02-e3ce63a2ba28",
   "metadata": {},
   "outputs": [
    {
     "data": {
      "text/plain": [
       "tensor(31.6875)"
      ]
     },
     "execution_count": 18,
     "metadata": {},
     "output_type": "execute_result"
    }
   ],
   "source": [
    "tmf_psnr(img1, img2)"
   ]
  },
  {
   "cell_type": "code",
   "execution_count": null,
   "id": "7306e123-9781-4419-bede-926d6c1a6385",
   "metadata": {},
   "outputs": [],
   "source": []
  }
 ],
 "metadata": {
  "kernelspec": {
   "display_name": "bimamba",
   "language": "python",
   "name": "bimamba"
  },
  "language_info": {
   "codemirror_mode": {
    "name": "ipython",
    "version": 3
   },
   "file_extension": ".py",
   "mimetype": "text/x-python",
   "name": "python",
   "nbconvert_exporter": "python",
   "pygments_lexer": "ipython3",
   "version": "3.12.7"
  }
 },
 "nbformat": 4,
 "nbformat_minor": 5
}
